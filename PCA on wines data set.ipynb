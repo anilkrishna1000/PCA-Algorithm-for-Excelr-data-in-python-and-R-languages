{
 "cells": [
  {
   "cell_type": "code",
   "execution_count": 11,
   "metadata": {},
   "outputs": [],
   "source": [
    "import pandas as pd \n",
    "import numpy as np\n",
    "import matplotlib.pylab as plt"
   ]
  },
  {
   "cell_type": "code",
   "execution_count": 12,
   "metadata": {},
   "outputs": [],
   "source": [
    "w=pd.read_csv(\"wine.csv\")"
   ]
  },
  {
   "cell_type": "code",
   "execution_count": 13,
   "metadata": {},
   "outputs": [
    {
     "data": {
      "text/html": [
       "<div>\n",
       "<style scoped>\n",
       "    .dataframe tbody tr th:only-of-type {\n",
       "        vertical-align: middle;\n",
       "    }\n",
       "\n",
       "    .dataframe tbody tr th {\n",
       "        vertical-align: top;\n",
       "    }\n",
       "\n",
       "    .dataframe thead th {\n",
       "        text-align: right;\n",
       "    }\n",
       "</style>\n",
       "<table border=\"1\" class=\"dataframe\">\n",
       "  <thead>\n",
       "    <tr style=\"text-align: right;\">\n",
       "      <th></th>\n",
       "      <th>Type</th>\n",
       "      <th>Alcohol</th>\n",
       "      <th>Malic</th>\n",
       "      <th>Ash</th>\n",
       "      <th>Alcalinity</th>\n",
       "      <th>Magnesium</th>\n",
       "      <th>Phenols</th>\n",
       "      <th>Flavanoids</th>\n",
       "      <th>Nonflavanoids</th>\n",
       "      <th>Proanthocyanins</th>\n",
       "      <th>Color</th>\n",
       "      <th>Hue</th>\n",
       "      <th>Dilution</th>\n",
       "      <th>Proline</th>\n",
       "    </tr>\n",
       "  </thead>\n",
       "  <tbody>\n",
       "    <tr>\n",
       "      <td>0</td>\n",
       "      <td>1</td>\n",
       "      <td>14.23</td>\n",
       "      <td>1.71</td>\n",
       "      <td>2.43</td>\n",
       "      <td>15.6</td>\n",
       "      <td>127</td>\n",
       "      <td>2.80</td>\n",
       "      <td>3.06</td>\n",
       "      <td>0.28</td>\n",
       "      <td>2.29</td>\n",
       "      <td>5.64</td>\n",
       "      <td>1.04</td>\n",
       "      <td>3.92</td>\n",
       "      <td>1065</td>\n",
       "    </tr>\n",
       "    <tr>\n",
       "      <td>1</td>\n",
       "      <td>1</td>\n",
       "      <td>13.20</td>\n",
       "      <td>1.78</td>\n",
       "      <td>2.14</td>\n",
       "      <td>11.2</td>\n",
       "      <td>100</td>\n",
       "      <td>2.65</td>\n",
       "      <td>2.76</td>\n",
       "      <td>0.26</td>\n",
       "      <td>1.28</td>\n",
       "      <td>4.38</td>\n",
       "      <td>1.05</td>\n",
       "      <td>3.40</td>\n",
       "      <td>1050</td>\n",
       "    </tr>\n",
       "    <tr>\n",
       "      <td>2</td>\n",
       "      <td>1</td>\n",
       "      <td>13.16</td>\n",
       "      <td>2.36</td>\n",
       "      <td>2.67</td>\n",
       "      <td>18.6</td>\n",
       "      <td>101</td>\n",
       "      <td>2.80</td>\n",
       "      <td>3.24</td>\n",
       "      <td>0.30</td>\n",
       "      <td>2.81</td>\n",
       "      <td>5.68</td>\n",
       "      <td>1.03</td>\n",
       "      <td>3.17</td>\n",
       "      <td>1185</td>\n",
       "    </tr>\n",
       "    <tr>\n",
       "      <td>3</td>\n",
       "      <td>1</td>\n",
       "      <td>14.37</td>\n",
       "      <td>1.95</td>\n",
       "      <td>2.50</td>\n",
       "      <td>16.8</td>\n",
       "      <td>113</td>\n",
       "      <td>3.85</td>\n",
       "      <td>3.49</td>\n",
       "      <td>0.24</td>\n",
       "      <td>2.18</td>\n",
       "      <td>7.80</td>\n",
       "      <td>0.86</td>\n",
       "      <td>3.45</td>\n",
       "      <td>1480</td>\n",
       "    </tr>\n",
       "    <tr>\n",
       "      <td>4</td>\n",
       "      <td>1</td>\n",
       "      <td>13.24</td>\n",
       "      <td>2.59</td>\n",
       "      <td>2.87</td>\n",
       "      <td>21.0</td>\n",
       "      <td>118</td>\n",
       "      <td>2.80</td>\n",
       "      <td>2.69</td>\n",
       "      <td>0.39</td>\n",
       "      <td>1.82</td>\n",
       "      <td>4.32</td>\n",
       "      <td>1.04</td>\n",
       "      <td>2.93</td>\n",
       "      <td>735</td>\n",
       "    </tr>\n",
       "  </tbody>\n",
       "</table>\n",
       "</div>"
      ],
      "text/plain": [
       "   Type  Alcohol  Malic   Ash  Alcalinity  Magnesium  Phenols  Flavanoids  \\\n",
       "0     1    14.23   1.71  2.43        15.6        127     2.80        3.06   \n",
       "1     1    13.20   1.78  2.14        11.2        100     2.65        2.76   \n",
       "2     1    13.16   2.36  2.67        18.6        101     2.80        3.24   \n",
       "3     1    14.37   1.95  2.50        16.8        113     3.85        3.49   \n",
       "4     1    13.24   2.59  2.87        21.0        118     2.80        2.69   \n",
       "\n",
       "   Nonflavanoids  Proanthocyanins  Color   Hue  Dilution  Proline  \n",
       "0           0.28             2.29   5.64  1.04      3.92     1065  \n",
       "1           0.26             1.28   4.38  1.05      3.40     1050  \n",
       "2           0.30             2.81   5.68  1.03      3.17     1185  \n",
       "3           0.24             2.18   7.80  0.86      3.45     1480  \n",
       "4           0.39             1.82   4.32  1.04      2.93      735  "
      ]
     },
     "execution_count": 13,
     "metadata": {},
     "output_type": "execute_result"
    }
   ],
   "source": [
    "w.head()"
   ]
  },
  {
   "cell_type": "code",
   "execution_count": 14,
   "metadata": {},
   "outputs": [
    {
     "data": {
      "text/plain": [
       "(178, 14)"
      ]
     },
     "execution_count": 14,
     "metadata": {},
     "output_type": "execute_result"
    }
   ],
   "source": [
    "w.shape"
   ]
  },
  {
   "cell_type": "code",
   "execution_count": 15,
   "metadata": {},
   "outputs": [
    {
     "data": {
      "text/plain": [
       "Type               0\n",
       "Alcohol            0\n",
       "Malic              0\n",
       "Ash                0\n",
       "Alcalinity         0\n",
       "Magnesium          0\n",
       "Phenols            0\n",
       "Flavanoids         0\n",
       "Nonflavanoids      0\n",
       "Proanthocyanins    0\n",
       "Color              0\n",
       "Hue                0\n",
       "Dilution           0\n",
       "Proline            0\n",
       "dtype: int64"
      ]
     },
     "execution_count": 15,
     "metadata": {},
     "output_type": "execute_result"
    }
   ],
   "source": [
    "w.isnull().sum()"
   ]
  },
  {
   "cell_type": "code",
   "execution_count": 16,
   "metadata": {},
   "outputs": [
    {
     "data": {
      "text/html": [
       "<div>\n",
       "<style scoped>\n",
       "    .dataframe tbody tr th:only-of-type {\n",
       "        vertical-align: middle;\n",
       "    }\n",
       "\n",
       "    .dataframe tbody tr th {\n",
       "        vertical-align: top;\n",
       "    }\n",
       "\n",
       "    .dataframe thead th {\n",
       "        text-align: right;\n",
       "    }\n",
       "</style>\n",
       "<table border=\"1\" class=\"dataframe\">\n",
       "  <thead>\n",
       "    <tr style=\"text-align: right;\">\n",
       "      <th></th>\n",
       "      <th>Type</th>\n",
       "      <th>Alcohol</th>\n",
       "      <th>Malic</th>\n",
       "      <th>Ash</th>\n",
       "      <th>Alcalinity</th>\n",
       "      <th>Magnesium</th>\n",
       "      <th>Phenols</th>\n",
       "      <th>Flavanoids</th>\n",
       "      <th>Nonflavanoids</th>\n",
       "      <th>Proanthocyanins</th>\n",
       "      <th>Color</th>\n",
       "      <th>Hue</th>\n",
       "      <th>Dilution</th>\n",
       "      <th>Proline</th>\n",
       "    </tr>\n",
       "  </thead>\n",
       "  <tbody>\n",
       "    <tr>\n",
       "      <td>count</td>\n",
       "      <td>178.000000</td>\n",
       "      <td>178.000000</td>\n",
       "      <td>178.000000</td>\n",
       "      <td>178.000000</td>\n",
       "      <td>178.000000</td>\n",
       "      <td>178.000000</td>\n",
       "      <td>178.000000</td>\n",
       "      <td>178.000000</td>\n",
       "      <td>178.000000</td>\n",
       "      <td>178.000000</td>\n",
       "      <td>178.000000</td>\n",
       "      <td>178.000000</td>\n",
       "      <td>178.000000</td>\n",
       "      <td>178.000000</td>\n",
       "    </tr>\n",
       "    <tr>\n",
       "      <td>mean</td>\n",
       "      <td>1.938202</td>\n",
       "      <td>13.000618</td>\n",
       "      <td>2.336348</td>\n",
       "      <td>2.366517</td>\n",
       "      <td>19.494944</td>\n",
       "      <td>99.741573</td>\n",
       "      <td>2.295112</td>\n",
       "      <td>2.029270</td>\n",
       "      <td>0.361854</td>\n",
       "      <td>1.590899</td>\n",
       "      <td>5.058090</td>\n",
       "      <td>0.957449</td>\n",
       "      <td>2.611685</td>\n",
       "      <td>746.893258</td>\n",
       "    </tr>\n",
       "    <tr>\n",
       "      <td>std</td>\n",
       "      <td>0.775035</td>\n",
       "      <td>0.811827</td>\n",
       "      <td>1.117146</td>\n",
       "      <td>0.274344</td>\n",
       "      <td>3.339564</td>\n",
       "      <td>14.282484</td>\n",
       "      <td>0.625851</td>\n",
       "      <td>0.998859</td>\n",
       "      <td>0.124453</td>\n",
       "      <td>0.572359</td>\n",
       "      <td>2.318286</td>\n",
       "      <td>0.228572</td>\n",
       "      <td>0.709990</td>\n",
       "      <td>314.907474</td>\n",
       "    </tr>\n",
       "    <tr>\n",
       "      <td>min</td>\n",
       "      <td>1.000000</td>\n",
       "      <td>11.030000</td>\n",
       "      <td>0.740000</td>\n",
       "      <td>1.360000</td>\n",
       "      <td>10.600000</td>\n",
       "      <td>70.000000</td>\n",
       "      <td>0.980000</td>\n",
       "      <td>0.340000</td>\n",
       "      <td>0.130000</td>\n",
       "      <td>0.410000</td>\n",
       "      <td>1.280000</td>\n",
       "      <td>0.480000</td>\n",
       "      <td>1.270000</td>\n",
       "      <td>278.000000</td>\n",
       "    </tr>\n",
       "    <tr>\n",
       "      <td>25%</td>\n",
       "      <td>1.000000</td>\n",
       "      <td>12.362500</td>\n",
       "      <td>1.602500</td>\n",
       "      <td>2.210000</td>\n",
       "      <td>17.200000</td>\n",
       "      <td>88.000000</td>\n",
       "      <td>1.742500</td>\n",
       "      <td>1.205000</td>\n",
       "      <td>0.270000</td>\n",
       "      <td>1.250000</td>\n",
       "      <td>3.220000</td>\n",
       "      <td>0.782500</td>\n",
       "      <td>1.937500</td>\n",
       "      <td>500.500000</td>\n",
       "    </tr>\n",
       "    <tr>\n",
       "      <td>50%</td>\n",
       "      <td>2.000000</td>\n",
       "      <td>13.050000</td>\n",
       "      <td>1.865000</td>\n",
       "      <td>2.360000</td>\n",
       "      <td>19.500000</td>\n",
       "      <td>98.000000</td>\n",
       "      <td>2.355000</td>\n",
       "      <td>2.135000</td>\n",
       "      <td>0.340000</td>\n",
       "      <td>1.555000</td>\n",
       "      <td>4.690000</td>\n",
       "      <td>0.965000</td>\n",
       "      <td>2.780000</td>\n",
       "      <td>673.500000</td>\n",
       "    </tr>\n",
       "    <tr>\n",
       "      <td>75%</td>\n",
       "      <td>3.000000</td>\n",
       "      <td>13.677500</td>\n",
       "      <td>3.082500</td>\n",
       "      <td>2.557500</td>\n",
       "      <td>21.500000</td>\n",
       "      <td>107.000000</td>\n",
       "      <td>2.800000</td>\n",
       "      <td>2.875000</td>\n",
       "      <td>0.437500</td>\n",
       "      <td>1.950000</td>\n",
       "      <td>6.200000</td>\n",
       "      <td>1.120000</td>\n",
       "      <td>3.170000</td>\n",
       "      <td>985.000000</td>\n",
       "    </tr>\n",
       "    <tr>\n",
       "      <td>max</td>\n",
       "      <td>3.000000</td>\n",
       "      <td>14.830000</td>\n",
       "      <td>5.800000</td>\n",
       "      <td>3.230000</td>\n",
       "      <td>30.000000</td>\n",
       "      <td>162.000000</td>\n",
       "      <td>3.880000</td>\n",
       "      <td>5.080000</td>\n",
       "      <td>0.660000</td>\n",
       "      <td>3.580000</td>\n",
       "      <td>13.000000</td>\n",
       "      <td>1.710000</td>\n",
       "      <td>4.000000</td>\n",
       "      <td>1680.000000</td>\n",
       "    </tr>\n",
       "  </tbody>\n",
       "</table>\n",
       "</div>"
      ],
      "text/plain": [
       "             Type     Alcohol       Malic         Ash  Alcalinity   Magnesium  \\\n",
       "count  178.000000  178.000000  178.000000  178.000000  178.000000  178.000000   \n",
       "mean     1.938202   13.000618    2.336348    2.366517   19.494944   99.741573   \n",
       "std      0.775035    0.811827    1.117146    0.274344    3.339564   14.282484   \n",
       "min      1.000000   11.030000    0.740000    1.360000   10.600000   70.000000   \n",
       "25%      1.000000   12.362500    1.602500    2.210000   17.200000   88.000000   \n",
       "50%      2.000000   13.050000    1.865000    2.360000   19.500000   98.000000   \n",
       "75%      3.000000   13.677500    3.082500    2.557500   21.500000  107.000000   \n",
       "max      3.000000   14.830000    5.800000    3.230000   30.000000  162.000000   \n",
       "\n",
       "          Phenols  Flavanoids  Nonflavanoids  Proanthocyanins       Color  \\\n",
       "count  178.000000  178.000000     178.000000       178.000000  178.000000   \n",
       "mean     2.295112    2.029270       0.361854         1.590899    5.058090   \n",
       "std      0.625851    0.998859       0.124453         0.572359    2.318286   \n",
       "min      0.980000    0.340000       0.130000         0.410000    1.280000   \n",
       "25%      1.742500    1.205000       0.270000         1.250000    3.220000   \n",
       "50%      2.355000    2.135000       0.340000         1.555000    4.690000   \n",
       "75%      2.800000    2.875000       0.437500         1.950000    6.200000   \n",
       "max      3.880000    5.080000       0.660000         3.580000   13.000000   \n",
       "\n",
       "              Hue    Dilution      Proline  \n",
       "count  178.000000  178.000000   178.000000  \n",
       "mean     0.957449    2.611685   746.893258  \n",
       "std      0.228572    0.709990   314.907474  \n",
       "min      0.480000    1.270000   278.000000  \n",
       "25%      0.782500    1.937500   500.500000  \n",
       "50%      0.965000    2.780000   673.500000  \n",
       "75%      1.120000    3.170000   985.000000  \n",
       "max      1.710000    4.000000  1680.000000  "
      ]
     },
     "execution_count": 16,
     "metadata": {},
     "output_type": "execute_result"
    }
   ],
   "source": [
    "w.describe()"
   ]
  },
  {
   "cell_type": "code",
   "execution_count": 17,
   "metadata": {},
   "outputs": [
    {
     "data": {
      "text/plain": [
       "Index(['Type', 'Alcohol', 'Malic', 'Ash', 'Alcalinity', 'Magnesium', 'Phenols',\n",
       "       'Flavanoids', 'Nonflavanoids', 'Proanthocyanins', 'Color', 'Hue',\n",
       "       'Dilution', 'Proline'],\n",
       "      dtype='object')"
      ]
     },
     "execution_count": 17,
     "metadata": {},
     "output_type": "execute_result"
    }
   ],
   "source": [
    "w.columns"
   ]
  },
  {
   "cell_type": "code",
   "execution_count": 26,
   "metadata": {},
   "outputs": [
    {
     "data": {
      "text/plain": [
       "([array([13.,  0.,  0.,  0.,  0.,  0.,  1.,  0.,  0.,  0.]),\n",
       "  array([13.,  0.,  0.,  0.,  0.,  0.,  1.,  0.,  0.,  0.]),\n",
       "  array([13.,  0.,  0.,  0.,  0.,  0.,  0.,  1.,  0.,  0.]),\n",
       "  array([13.,  0.,  0.,  0.,  0.,  0.,  0.,  0.,  1.,  0.]),\n",
       "  array([13.,  0.,  0.,  0.,  1.,  0.,  0.,  0.,  0.,  0.]),\n",
       "  array([13.,  0.,  0.,  0.,  0.,  0.,  0.,  0.,  1.,  0.]),\n",
       "  array([13.,  0.,  0.,  0.,  0.,  0.,  0.,  1.,  0.,  0.]),\n",
       "  array([13.,  0.,  0.,  0.,  0.,  0.,  0.,  1.,  0.,  0.]),\n",
       "  array([13.,  0.,  0.,  0.,  0.,  0.,  1.,  0.,  0.,  0.]),\n",
       "  array([13.,  0.,  0.,  0.,  0.,  0.,  1.,  0.,  0.,  0.]),\n",
       "  array([13.,  0.,  0.,  0.,  0.,  0.,  0.,  0.,  1.,  0.]),\n",
       "  array([13.,  0.,  0.,  0.,  0.,  0.,  0.,  1.,  0.,  0.]),\n",
       "  array([13.,  0.,  0.,  0.,  0.,  0.,  0.,  1.,  0.,  0.]),\n",
       "  array([13.,  0.,  0.,  0.,  0.,  0.,  1.,  0.,  0.,  0.]),\n",
       "  array([13.,  0.,  0.,  0.,  0.,  0.,  0.,  0.,  0.,  1.]),\n",
       "  array([13.,  0.,  0.,  0.,  0.,  0.,  0.,  1.,  0.,  0.]),\n",
       "  array([13.,  0.,  0.,  0.,  0.,  0.,  0.,  1.,  0.,  0.]),\n",
       "  array([13.,  0.,  0.,  0.,  0.,  0.,  1.,  0.,  0.,  0.]),\n",
       "  array([13.,  0.,  0.,  0.,  0.,  0.,  0.,  0.,  0.,  1.]),\n",
       "  array([13.,  0.,  0.,  0.,  0.,  1.,  0.,  0.,  0.,  0.]),\n",
       "  array([13.,  0.,  0.,  0.,  1.,  0.,  0.,  0.,  0.,  0.]),\n",
       "  array([13.,  0.,  0.,  0.,  1.,  0.,  0.,  0.,  0.,  0.]),\n",
       "  array([13.,  0.,  0.,  0.,  0.,  0.,  1.,  0.,  0.,  0.]),\n",
       "  array([13.,  0.,  0.,  0.,  0.,  0.,  1.,  0.,  0.,  0.]),\n",
       "  array([13.,  0.,  0.,  0.,  0.,  1.,  0.,  0.,  0.,  0.]),\n",
       "  array([13.,  0.,  0.,  0.,  1.,  0.,  0.,  0.,  0.,  0.]),\n",
       "  array([13.,  0.,  0.,  0.,  0.,  0.,  0.,  1.,  0.,  0.]),\n",
       "  array([13.,  0.,  0.,  0.,  0.,  0.,  0.,  1.,  0.,  0.]),\n",
       "  array([13.,  0.,  0.,  0.,  0.,  1.,  0.,  0.,  0.,  0.]),\n",
       "  array([13.,  0.,  0.,  0.,  0.,  0.,  1.,  0.,  0.,  0.]),\n",
       "  array([13.,  0.,  0.,  0.,  0.,  0.,  0.,  1.,  0.,  0.]),\n",
       "  array([13.,  0.,  0.,  0.,  0.,  0.,  0.,  0.,  0.,  1.]),\n",
       "  array([13.,  0.,  0.,  0.,  0.,  1.,  0.,  0.,  0.,  0.]),\n",
       "  array([13.,  0.,  0.,  0.,  0.,  0.,  0.,  1.,  0.,  0.]),\n",
       "  array([13.,  0.,  0.,  0.,  0.,  0.,  1.,  0.,  0.,  0.]),\n",
       "  array([13.,  0.,  0.,  0.,  0.,  1.,  0.,  0.,  0.,  0.]),\n",
       "  array([13.,  0.,  0.,  0.,  0.,  1.,  0.,  0.,  0.,  0.]),\n",
       "  array([13.,  0.,  0.,  0.,  0.,  0.,  1.,  0.,  0.,  0.]),\n",
       "  array([13.,  0.,  0.,  0.,  0.,  0.,  1.,  0.,  0.,  0.]),\n",
       "  array([13.,  0.,  0.,  0.,  1.,  0.,  0.,  0.,  0.,  0.]),\n",
       "  array([13.,  0.,  0.,  0.,  1.,  0.,  0.,  0.,  0.,  0.]),\n",
       "  array([13.,  0.,  0.,  0.,  0.,  0.,  1.,  0.,  0.,  0.]),\n",
       "  array([13.,  0.,  0.,  0.,  0.,  0.,  1.,  0.,  0.,  0.]),\n",
       "  array([13.,  0.,  0.,  0.,  1.,  0.,  0.,  0.,  0.,  0.]),\n",
       "  array([13.,  0.,  0.,  0.,  0.,  1.,  0.,  0.,  0.,  0.]),\n",
       "  array([13.,  0.,  0.,  0.,  0.,  0.,  1.,  0.,  0.,  0.]),\n",
       "  array([13.,  0.,  0.,  0.,  0.,  0.,  1.,  0.,  0.,  0.]),\n",
       "  array([13.,  0.,  0.,  0.,  0.,  1.,  0.,  0.,  0.,  0.]),\n",
       "  array([13.,  0.,  0.,  0.,  0.,  0.,  1.,  0.,  0.,  0.]),\n",
       "  array([13.,  0.,  0.,  0.,  0.,  0.,  0.,  1.,  0.,  0.]),\n",
       "  array([13.,  0.,  0.,  0.,  0.,  0.,  1.,  0.,  0.,  0.]),\n",
       "  array([13.,  0.,  0.,  0.,  0.,  0.,  0.,  1.,  0.,  0.]),\n",
       "  array([13.,  0.,  0.,  0.,  0.,  0.,  0.,  1.,  0.,  0.]),\n",
       "  array([13.,  0.,  0.,  0.,  0.,  0.,  0.,  0.,  1.,  0.]),\n",
       "  array([13.,  0.,  0.,  0.,  0.,  0.,  1.,  0.,  0.,  0.]),\n",
       "  array([13.,  0.,  0.,  0.,  0.,  0.,  1.,  0.,  0.,  0.]),\n",
       "  array([13.,  0.,  0.,  0.,  0.,  1.,  0.,  0.,  0.,  0.]),\n",
       "  array([13.,  0.,  0.,  0.,  0.,  0.,  0.,  1.,  0.,  0.]),\n",
       "  array([13.,  0.,  0.,  0.,  0.,  0.,  0.,  1.,  0.,  0.]),\n",
       "  array([13.,  0.,  0.,  1.,  0.,  0.,  0.,  0.,  0.,  0.]),\n",
       "  array([13.,  0.,  0.,  0.,  1.,  0.,  0.,  0.,  0.,  0.]),\n",
       "  array([13.,  0.,  1.,  0.,  0.,  0.,  0.,  0.,  0.,  0.]),\n",
       "  array([13.,  0.,  0.,  1.,  0.,  0.,  0.,  0.,  0.,  0.]),\n",
       "  array([13.,  0.,  1.,  0.,  0.,  0.,  0.,  0.,  0.,  0.]),\n",
       "  array([13.,  0.,  1.,  0.,  0.,  0.,  0.,  0.,  0.,  0.]),\n",
       "  array([13.,  0.,  0.,  0.,  1.,  0.,  0.,  0.,  0.,  0.]),\n",
       "  array([13.,  0.,  1.,  0.,  0.,  0.,  0.,  0.,  0.,  0.]),\n",
       "  array([13.,  0.,  0.,  1.,  0.,  0.,  0.,  0.,  0.,  0.]),\n",
       "  array([13.,  0.,  0.,  0.,  1.,  0.,  0.,  0.,  0.,  0.]),\n",
       "  array([13.,  0.,  0.,  0.,  1.,  0.,  0.,  0.,  0.,  0.]),\n",
       "  array([13.,  0.,  0.,  0.,  0.,  1.,  0.,  0.,  0.,  0.]),\n",
       "  array([13.,  0.,  1.,  0.,  0.,  0.,  0.,  0.,  0.,  0.]),\n",
       "  array([13.,  0.,  1.,  0.,  0.,  0.,  0.,  0.,  0.,  0.]),\n",
       "  array([13.,  0.,  0.,  0.,  0.,  1.,  0.,  0.,  0.,  0.]),\n",
       "  array([13.,  0.,  0.,  0.,  0.,  1.,  0.,  0.,  0.,  0.]),\n",
       "  array([13.,  0.,  1.,  0.,  0.,  0.,  0.,  0.,  0.,  0.]),\n",
       "  array([13.,  0.,  1.,  0.,  0.,  0.,  0.,  0.,  0.,  0.]),\n",
       "  array([13.,  0.,  1.,  0.,  0.,  0.,  0.,  0.,  0.,  0.]),\n",
       "  array([13.,  0.,  0.,  0.,  1.,  0.,  0.,  0.,  0.,  0.]),\n",
       "  array([13.,  0.,  1.,  0.,  0.,  0.,  0.,  0.,  0.,  0.]),\n",
       "  array([13.,  1.,  0.,  0.,  0.,  0.,  0.,  0.,  0.,  0.]),\n",
       "  array([13.,  0.,  0.,  0.,  1.,  0.,  0.,  0.,  0.,  0.]),\n",
       "  array([13.,  0.,  0.,  1.,  0.,  0.,  0.,  0.,  0.,  0.]),\n",
       "  array([13.,  0.,  0.,  1.,  0.,  0.,  0.,  0.,  0.,  0.]),\n",
       "  array([13.,  0.,  0.,  1.,  0.,  0.,  0.,  0.,  0.,  0.]),\n",
       "  array([13.,  0.,  1.,  0.,  0.,  0.,  0.,  0.,  0.,  0.]),\n",
       "  array([13.,  0.,  1.,  0.,  0.,  0.,  0.,  0.,  0.,  0.]),\n",
       "  array([13.,  0.,  0.,  1.,  0.,  0.,  0.,  0.,  0.,  0.]),\n",
       "  array([13.,  0.,  0.,  0.,  1.,  0.,  0.,  0.,  0.,  0.]),\n",
       "  array([13.,  0.,  0.,  1.,  0.,  0.,  0.,  0.,  0.,  0.]),\n",
       "  array([13.,  0.,  1.,  0.,  0.,  0.,  0.,  0.,  0.,  0.]),\n",
       "  array([13.,  0.,  1.,  0.,  0.,  0.,  0.,  0.,  0.,  0.]),\n",
       "  array([13.,  0.,  1.,  0.,  0.,  0.,  0.,  0.,  0.,  0.]),\n",
       "  array([13.,  1.,  0.,  0.,  0.,  0.,  0.,  0.,  0.,  0.]),\n",
       "  array([13.,  0.,  1.,  0.,  0.,  0.,  0.,  0.,  0.,  0.]),\n",
       "  array([13.,  0.,  0.,  0.,  0.,  1.,  0.,  0.,  0.,  0.]),\n",
       "  array([13.,  0.,  0.,  1.,  0.,  0.,  0.,  0.,  0.,  0.]),\n",
       "  array([13.,  0.,  1.,  0.,  0.,  0.,  0.,  0.,  0.,  0.]),\n",
       "  array([13.,  0.,  0.,  1.,  0.,  0.,  0.,  0.,  0.,  0.]),\n",
       "  array([13.,  0.,  1.,  0.,  0.,  0.,  0.,  0.,  0.,  0.]),\n",
       "  array([13.,  0.,  0.,  0.,  1.,  0.,  0.,  0.,  0.,  0.]),\n",
       "  array([13.,  0.,  0.,  1.,  0.,  0.,  0.,  0.,  0.,  0.]),\n",
       "  array([13.,  0.,  1.,  0.,  0.,  0.,  0.,  0.,  0.,  0.]),\n",
       "  array([13.,  0.,  1.,  0.,  0.,  0.,  0.,  0.,  0.,  0.]),\n",
       "  array([13.,  0.,  0.,  1.,  0.,  0.,  0.,  0.,  0.,  0.]),\n",
       "  array([13.,  1.,  0.,  0.,  0.,  0.,  0.,  0.,  0.,  0.]),\n",
       "  array([13.,  0.,  0.,  1.,  0.,  0.,  0.,  0.,  0.,  0.]),\n",
       "  array([13.,  0.,  1.,  0.,  0.,  0.,  0.,  0.,  0.,  0.]),\n",
       "  array([13.,  1.,  0.,  0.,  0.,  0.,  0.,  0.,  0.,  0.]),\n",
       "  array([13.,  0.,  0.,  0.,  1.,  0.,  0.,  0.,  0.,  0.]),\n",
       "  array([13.,  0.,  0.,  1.,  0.,  0.,  0.,  0.,  0.,  0.]),\n",
       "  array([13.,  1.,  0.,  0.,  0.,  0.,  0.,  0.,  0.,  0.]),\n",
       "  array([13.,  0.,  0.,  1.,  0.,  0.,  0.,  0.,  0.,  0.]),\n",
       "  array([13.,  0.,  1.,  0.,  0.,  0.,  0.,  0.,  0.,  0.]),\n",
       "  array([13.,  0.,  1.,  0.,  0.,  0.,  0.,  0.,  0.,  0.]),\n",
       "  array([13.,  0.,  1.,  0.,  0.,  0.,  0.,  0.,  0.,  0.]),\n",
       "  array([13.,  0.,  1.,  0.,  0.,  0.,  0.,  0.,  0.,  0.]),\n",
       "  array([13.,  0.,  1.,  0.,  0.,  0.,  0.,  0.,  0.,  0.]),\n",
       "  array([13.,  0.,  1.,  0.,  0.,  0.,  0.,  0.,  0.,  0.]),\n",
       "  array([13.,  0.,  0.,  1.,  0.,  0.,  0.,  0.,  0.,  0.]),\n",
       "  array([13.,  0.,  0.,  1.,  0.,  0.,  0.,  0.,  0.,  0.]),\n",
       "  array([13.,  0.,  1.,  0.,  0.,  0.,  0.,  0.,  0.,  0.]),\n",
       "  array([13.,  0.,  1.,  0.,  0.,  0.,  0.,  0.,  0.,  0.]),\n",
       "  array([13.,  0.,  1.,  0.,  0.,  0.,  0.,  0.,  0.,  0.]),\n",
       "  array([13.,  0.,  1.,  0.,  0.,  0.,  0.,  0.,  0.,  0.]),\n",
       "  array([13.,  0.,  1.,  0.,  0.,  0.,  0.,  0.,  0.,  0.]),\n",
       "  array([13.,  0.,  1.,  0.,  0.,  0.,  0.,  0.,  0.,  0.]),\n",
       "  array([13.,  0.,  1.,  0.,  0.,  0.,  0.,  0.,  0.,  0.]),\n",
       "  array([13.,  0.,  1.,  0.,  0.,  0.,  0.,  0.,  0.,  0.]),\n",
       "  array([13.,  0.,  0.,  1.,  0.,  0.,  0.,  0.,  0.,  0.]),\n",
       "  array([13.,  0.,  0.,  1.,  0.,  0.,  0.,  0.,  0.,  0.]),\n",
       "  array([13.,  0.,  0.,  1.,  0.,  0.,  0.,  0.,  0.,  0.]),\n",
       "  array([13.,  0.,  0.,  1.,  0.,  0.,  0.,  0.,  0.,  0.]),\n",
       "  array([13.,  0.,  0.,  1.,  0.,  0.,  0.,  0.,  0.,  0.]),\n",
       "  array([13.,  0.,  0.,  1.,  0.,  0.,  0.,  0.,  0.,  0.]),\n",
       "  array([13.,  0.,  0.,  0.,  1.,  0.,  0.,  0.,  0.,  0.]),\n",
       "  array([13.,  0.,  0.,  0.,  1.,  0.,  0.,  0.,  0.,  0.]),\n",
       "  array([13.,  0.,  0.,  1.,  0.,  0.,  0.,  0.,  0.,  0.]),\n",
       "  array([13.,  0.,  0.,  1.,  0.,  0.,  0.,  0.,  0.,  0.]),\n",
       "  array([13.,  0.,  0.,  1.,  0.,  0.,  0.,  0.,  0.,  0.]),\n",
       "  array([13.,  0.,  0.,  1.,  0.,  0.,  0.,  0.,  0.,  0.]),\n",
       "  array([13.,  0.,  0.,  0.,  1.,  0.,  0.,  0.,  0.,  0.]),\n",
       "  array([13.,  0.,  0.,  1.,  0.,  0.,  0.,  0.,  0.,  0.]),\n",
       "  array([13.,  0.,  0.,  1.,  0.,  0.,  0.,  0.,  0.,  0.]),\n",
       "  array([13.,  0.,  0.,  0.,  0.,  1.,  0.,  0.,  0.,  0.]),\n",
       "  array([13.,  0.,  0.,  0.,  1.,  0.,  0.,  0.,  0.,  0.]),\n",
       "  array([13.,  0.,  1.,  0.,  0.,  0.,  0.,  0.,  0.,  0.]),\n",
       "  array([13.,  0.,  0.,  1.,  0.,  0.,  0.,  0.,  0.,  0.]),\n",
       "  array([13.,  0.,  0.,  1.,  0.,  0.,  0.,  0.,  0.,  0.]),\n",
       "  array([13.,  0.,  0.,  1.,  0.,  0.,  0.,  0.,  0.,  0.]),\n",
       "  array([13.,  0.,  1.,  0.,  0.,  0.,  0.,  0.,  0.,  0.]),\n",
       "  array([13.,  0.,  1.,  0.,  0.,  0.,  0.,  0.,  0.,  0.]),\n",
       "  array([13.,  0.,  1.,  0.,  0.,  0.,  0.,  0.,  0.,  0.]),\n",
       "  array([13.,  0.,  0.,  0.,  1.,  0.,  0.,  0.,  0.,  0.]),\n",
       "  array([13.,  0.,  0.,  1.,  0.,  0.,  0.,  0.,  0.,  0.]),\n",
       "  array([13.,  0.,  0.,  0.,  1.,  0.,  0.,  0.,  0.,  0.]),\n",
       "  array([13.,  0.,  1.,  0.,  0.,  0.,  0.,  0.,  0.,  0.]),\n",
       "  array([13.,  0.,  0.,  0.,  0.,  1.,  0.,  0.,  0.,  0.]),\n",
       "  array([13.,  0.,  0.,  1.,  0.,  0.,  0.,  0.,  0.,  0.]),\n",
       "  array([13.,  0.,  0.,  1.,  0.,  0.,  0.,  0.,  0.,  0.]),\n",
       "  array([13.,  0.,  0.,  1.,  0.,  0.,  0.,  0.,  0.,  0.]),\n",
       "  array([13.,  0.,  0.,  0.,  1.,  0.,  0.,  0.,  0.,  0.]),\n",
       "  array([13.,  0.,  0.,  1.,  0.,  0.,  0.,  0.,  0.,  0.]),\n",
       "  array([13.,  0.,  0.,  0.,  1.,  0.,  0.,  0.,  0.,  0.]),\n",
       "  array([13.,  0.,  0.,  1.,  0.,  0.,  0.,  0.,  0.,  0.]),\n",
       "  array([13.,  0.,  0.,  1.,  0.,  0.,  0.,  0.,  0.,  0.]),\n",
       "  array([13.,  0.,  0.,  0.,  1.,  0.,  0.,  0.,  0.,  0.]),\n",
       "  array([13.,  0.,  0.,  0.,  1.,  0.,  0.,  0.,  0.,  0.]),\n",
       "  array([13.,  0.,  0.,  0.,  1.,  0.,  0.,  0.,  0.,  0.]),\n",
       "  array([13.,  0.,  0.,  1.,  0.,  0.,  0.,  0.,  0.,  0.]),\n",
       "  array([13.,  0.,  0.,  1.,  0.,  0.,  0.,  0.,  0.,  0.]),\n",
       "  array([13.,  0.,  1.,  0.,  0.,  0.,  0.,  0.,  0.,  0.]),\n",
       "  array([13.,  0.,  0.,  1.,  0.,  0.,  0.,  0.,  0.,  0.]),\n",
       "  array([13.,  0.,  0.,  0.,  1.,  0.,  0.,  0.,  0.,  0.]),\n",
       "  array([13.,  0.,  0.,  0.,  1.,  0.,  0.,  0.,  0.,  0.]),\n",
       "  array([13.,  0.,  0.,  0.,  1.,  0.,  0.,  0.,  0.,  0.]),\n",
       "  array([13.,  0.,  0.,  0.,  1.,  0.,  0.,  0.,  0.,  0.]),\n",
       "  array([13.,  0.,  0.,  1.,  0.,  0.,  0.,  0.,  0.,  0.])],\n",
       " array([1.300000e-01, 1.681170e+02, 3.361040e+02, 5.040910e+02,\n",
       "        6.720780e+02, 8.400650e+02, 1.008052e+03, 1.176039e+03,\n",
       "        1.344026e+03, 1.512013e+03, 1.680000e+03]),\n",
       " <a list of 178 Lists of Patches objects>)"
      ]
     },
     "execution_count": 26,
     "metadata": {},
     "output_type": "execute_result"
    },
    {
     "data": {
      "image/png": "[encoded data removed]",
      "text/plain": [
       "<Figure size 432x288 with 1 Axes>"
      ]
     },
     "metadata": {
      "needs_background": "light"
     },
     "output_type": "display_data"
    }
   ],
   "source": [
    "plt.hist(w)"
   ]
  },
  {
   "cell_type": "code",
   "execution_count": 29,
   "metadata": {},
   "outputs": [
    {
     "data": {
      "text/plain": [
       "<matplotlib.collections.PathCollection at 0x2a229c8c288>"
      ]
     },
     "execution_count": 29,
     "metadata": {},
     "output_type": "execute_result"
    },
    {
     "data": {
      "image/png": "[encoded data removed]",
      "text/plain": [
       "<Figure size 432x288 with 1 Axes>"
      ]
     },
     "metadata": {
      "needs_background": "light"
     },
     "output_type": "display_data"
    }
   ],
   "source": [
    "plt.scatter(w.Type,w.Alcohol)"
   ]
  },
  {
   "cell_type": "code",
   "execution_count": 30,
   "metadata": {},
   "outputs": [
    {
     "data": {
      "text/plain": [
       "<matplotlib.collections.PathCollection at 0x2a229990e88>"
      ]
     },
     "execution_count": 30,
     "metadata": {},
     "output_type": "execute_result"
    },
    {
     "data": {
      "image/png": "[encoded data removed]",
      "text/plain": [
       "<Figure size 432x288 with 1 Axes>"
      ]
     },
     "metadata": {
      "needs_background": "light"
     },
     "output_type": "display_data"
    }
   ],
   "source": [
    "plt.scatter(w.Type,w.Malic)"
   ]
  },
  {
   "cell_type": "code",
   "execution_count": 31,
   "metadata": {},
   "outputs": [
    {
     "data": {
      "text/plain": [
       "<matplotlib.collections.PathCollection at 0x2a22de6aa88>"
      ]
     },
     "execution_count": 31,
     "metadata": {},
     "output_type": "execute_result"
    },
    {
     "data": {
      "image/png": "[encoded data removed]",
      "text/plain": [
       "<Figure size 432x288 with 1 Axes>"
      ]
     },
     "metadata": {
      "needs_background": "light"
     },
     "output_type": "display_data"
    }
   ],
   "source": [
    "plt.scatter(w.Type,w.Ash)"
   ]
  },
  {
   "cell_type": "code",
   "execution_count": 33,
   "metadata": {},
   "outputs": [
    {
     "data": {
      "text/plain": [
       "<matplotlib.collections.PathCollection at 0x2a22debbbc8>"
      ]
     },
     "execution_count": 33,
     "metadata": {},
     "output_type": "execute_result"
    },
    {
     "data": {
      "image/png": "[encoded data removed]",
      "text/plain": [
       "<Figure size 432x288 with 1 Axes>"
      ]
     },
     "metadata": {
      "needs_background": "light"
     },
     "output_type": "display_data"
    }
   ],
   "source": [
    "plt.scatter(w.Type,w.Color)"
   ]
  },
  {
   "cell_type": "code",
   "execution_count": 34,
   "metadata": {},
   "outputs": [
    {
     "data": {
      "text/plain": [
       "<matplotlib.collections.PathCollection at 0x2a22df3e2c8>"
      ]
     },
     "execution_count": 34,
     "metadata": {},
     "output_type": "execute_result"
    },
    {
     "data": {
      "image/png": "[encoded data removed]",
      "text/plain": [
       "<Figure size 432x288 with 1 Axes>"
      ]
     },
     "metadata": {
      "needs_background": "light"
     },
     "output_type": "display_data"
    }
   ],
   "source": [
    "plt.scatter(w.Type,w.Proline)"
   ]
  },
  {
   "cell_type": "code",
   "execution_count": 35,
   "metadata": {},
   "outputs": [],
   "source": [
    "from sklearn.decomposition import PCA\n",
    "import matplotlib.pyplot as plt\n",
    "from sklearn.preprocessing import scale "
   ]
  },
  {
   "cell_type": "code",
   "execution_count": 36,
   "metadata": {},
   "outputs": [
    {
     "name": "stderr",
     "output_type": "stream",
     "text": [
      "C:\\Users\\anilkrishna\\Anaconda3\\lib\\site-packages\\ipykernel_launcher.py:1: UserWarning: Pandas doesn't allow columns to be created via a new attribute name - see https://pandas.pydata.org/pandas-docs/stable/indexing.html#attribute-access\n",
      "  \"\"\"Entry point for launching an IPython kernel.\n"
     ]
    },
    {
     "data": {
      "text/html": [
       "<div>\n",
       "<style scoped>\n",
       "    .dataframe tbody tr th:only-of-type {\n",
       "        vertical-align: middle;\n",
       "    }\n",
       "\n",
       "    .dataframe tbody tr th {\n",
       "        vertical-align: top;\n",
       "    }\n",
       "\n",
       "    .dataframe thead th {\n",
       "        text-align: right;\n",
       "    }\n",
       "</style>\n",
       "<table border=\"1\" class=\"dataframe\">\n",
       "  <thead>\n",
       "    <tr style=\"text-align: right;\">\n",
       "      <th></th>\n",
       "      <th>Alcohol</th>\n",
       "      <th>Malic</th>\n",
       "      <th>Ash</th>\n",
       "      <th>Alcalinity</th>\n",
       "      <th>Magnesium</th>\n",
       "      <th>Phenols</th>\n",
       "      <th>Flavanoids</th>\n",
       "      <th>Nonflavanoids</th>\n",
       "      <th>Proanthocyanins</th>\n",
       "      <th>Color</th>\n",
       "      <th>Hue</th>\n",
       "      <th>Dilution</th>\n",
       "      <th>Proline</th>\n",
       "    </tr>\n",
       "  </thead>\n",
       "  <tbody>\n",
       "    <tr>\n",
       "      <td>0</td>\n",
       "      <td>14.23</td>\n",
       "      <td>1.71</td>\n",
       "      <td>2.43</td>\n",
       "      <td>15.6</td>\n",
       "      <td>127</td>\n",
       "      <td>2.80</td>\n",
       "      <td>3.06</td>\n",
       "      <td>0.28</td>\n",
       "      <td>2.29</td>\n",
       "      <td>5.64</td>\n",
       "      <td>1.04</td>\n",
       "      <td>3.92</td>\n",
       "      <td>1065</td>\n",
       "    </tr>\n",
       "    <tr>\n",
       "      <td>1</td>\n",
       "      <td>13.20</td>\n",
       "      <td>1.78</td>\n",
       "      <td>2.14</td>\n",
       "      <td>11.2</td>\n",
       "      <td>100</td>\n",
       "      <td>2.65</td>\n",
       "      <td>2.76</td>\n",
       "      <td>0.26</td>\n",
       "      <td>1.28</td>\n",
       "      <td>4.38</td>\n",
       "      <td>1.05</td>\n",
       "      <td>3.40</td>\n",
       "      <td>1050</td>\n",
       "    </tr>\n",
       "    <tr>\n",
       "      <td>2</td>\n",
       "      <td>13.16</td>\n",
       "      <td>2.36</td>\n",
       "      <td>2.67</td>\n",
       "      <td>18.6</td>\n",
       "      <td>101</td>\n",
       "      <td>2.80</td>\n",
       "      <td>3.24</td>\n",
       "      <td>0.30</td>\n",
       "      <td>2.81</td>\n",
       "      <td>5.68</td>\n",
       "      <td>1.03</td>\n",
       "      <td>3.17</td>\n",
       "      <td>1185</td>\n",
       "    </tr>\n",
       "    <tr>\n",
       "      <td>3</td>\n",
       "      <td>14.37</td>\n",
       "      <td>1.95</td>\n",
       "      <td>2.50</td>\n",
       "      <td>16.8</td>\n",
       "      <td>113</td>\n",
       "      <td>3.85</td>\n",
       "      <td>3.49</td>\n",
       "      <td>0.24</td>\n",
       "      <td>2.18</td>\n",
       "      <td>7.80</td>\n",
       "      <td>0.86</td>\n",
       "      <td>3.45</td>\n",
       "      <td>1480</td>\n",
       "    </tr>\n",
       "    <tr>\n",
       "      <td>4</td>\n",
       "      <td>13.24</td>\n",
       "      <td>2.59</td>\n",
       "      <td>2.87</td>\n",
       "      <td>21.0</td>\n",
       "      <td>118</td>\n",
       "      <td>2.80</td>\n",
       "      <td>2.69</td>\n",
       "      <td>0.39</td>\n",
       "      <td>1.82</td>\n",
       "      <td>4.32</td>\n",
       "      <td>1.04</td>\n",
       "      <td>2.93</td>\n",
       "      <td>735</td>\n",
       "    </tr>\n",
       "  </tbody>\n",
       "</table>\n",
       "</div>"
      ],
      "text/plain": [
       "   Alcohol  Malic   Ash  Alcalinity  Magnesium  Phenols  Flavanoids  \\\n",
       "0    14.23   1.71  2.43        15.6        127     2.80        3.06   \n",
       "1    13.20   1.78  2.14        11.2        100     2.65        2.76   \n",
       "2    13.16   2.36  2.67        18.6        101     2.80        3.24   \n",
       "3    14.37   1.95  2.50        16.8        113     3.85        3.49   \n",
       "4    13.24   2.59  2.87        21.0        118     2.80        2.69   \n",
       "\n",
       "   Nonflavanoids  Proanthocyanins  Color   Hue  Dilution  Proline  \n",
       "0           0.28             2.29   5.64  1.04      3.92     1065  \n",
       "1           0.26             1.28   4.38  1.05      3.40     1050  \n",
       "2           0.30             2.81   5.68  1.03      3.17     1185  \n",
       "3           0.24             2.18   7.80  0.86      3.45     1480  \n",
       "4           0.39             1.82   4.32  1.04      2.93      735  "
      ]
     },
     "execution_count": 36,
     "metadata": {},
     "output_type": "execute_result"
    }
   ],
   "source": [
    "w.data = w.iloc[:,1:]\n",
    "w.data.head()"
   ]
  },
  {
   "cell_type": "code",
   "execution_count": 37,
   "metadata": {},
   "outputs": [
    {
     "data": {
      "text/plain": [
       "array([[1.423e+01, 1.710e+00, 2.430e+00, ..., 1.040e+00, 3.920e+00,\n",
       "        1.065e+03],\n",
       "       [1.320e+01, 1.780e+00, 2.140e+00, ..., 1.050e+00, 3.400e+00,\n",
       "        1.050e+03],\n",
       "       [1.316e+01, 2.360e+00, 2.670e+00, ..., 1.030e+00, 3.170e+00,\n",
       "        1.185e+03],\n",
       "       ...,\n",
       "       [1.327e+01, 4.280e+00, 2.260e+00, ..., 5.900e-01, 1.560e+00,\n",
       "        8.350e+02],\n",
       "       [1.317e+01, 2.590e+00, 2.370e+00, ..., 6.000e-01, 1.620e+00,\n",
       "        8.400e+02],\n",
       "       [1.413e+01, 4.100e+00, 2.740e+00, ..., 6.100e-01, 1.600e+00,\n",
       "        5.600e+02]])"
      ]
     },
     "execution_count": 37,
     "metadata": {},
     "output_type": "execute_result"
    }
   ],
   "source": [
    "W= w.data.values\n",
    "W"
   ]
  },
  {
   "cell_type": "code",
   "execution_count": 38,
   "metadata": {},
   "outputs": [
    {
     "data": {
      "text/plain": [
       "array([[ 1.51861254, -0.5622498 ,  0.23205254, ...,  0.36217728,\n",
       "         1.84791957,  1.01300893],\n",
       "       [ 0.24628963, -0.49941338, -0.82799632, ...,  0.40605066,\n",
       "         1.1134493 ,  0.96524152],\n",
       "       [ 0.19687903,  0.02123125,  1.10933436, ...,  0.31830389,\n",
       "         0.78858745,  1.39514818],\n",
       "       ...,\n",
       "       [ 0.33275817,  1.74474449, -0.38935541, ..., -1.61212515,\n",
       "        -1.48544548,  0.28057537],\n",
       "       [ 0.20923168,  0.22769377,  0.01273209, ..., -1.56825176,\n",
       "        -1.40069891,  0.29649784],\n",
       "       [ 1.39508604,  1.58316512,  1.36520822, ..., -1.52437837,\n",
       "        -1.42894777, -0.59516041]])"
      ]
     },
     "execution_count": 38,
     "metadata": {},
     "output_type": "execute_result"
    }
   ],
   "source": [
    "w_normal = scale(W)\n",
    "w_normal"
   ]
  },
  {
   "cell_type": "code",
   "execution_count": 47,
   "metadata": {},
   "outputs": [],
   "source": [
    "pca = PCA(n_components = 7)\n",
    "pca_values = pca.fit_transform(w_normal)\n"
   ]
  },
  {
   "cell_type": "code",
   "execution_count": 48,
   "metadata": {},
   "outputs": [
    {
     "data": {
      "text/plain": [
       "array([0.36198848, 0.1920749 , 0.11123631, 0.0706903 , 0.06563294,\n",
       "       0.04935823, 0.04238679])"
      ]
     },
     "execution_count": 48,
     "metadata": {},
     "output_type": "execute_result"
    }
   ],
   "source": [
    "var = pca.explained_variance_ratio_\n",
    "var ### the first 7 variables contribte ~90% of the information required for the entire data. Hence the 13 components can be reduced to 14 for furhter analysis with 90% information. The other variables can be included in case we intend to have more accurate analysis/forcasting/prediction."
   ]
  },
  {
   "cell_type": "code",
   "execution_count": 50,
   "metadata": {},
   "outputs": [
    {
     "data": {
      "text/plain": [
       "array([36.2 , 55.41, 66.53, 73.6 , 80.16, 85.1 , 89.34])"
      ]
     },
     "execution_count": 50,
     "metadata": {},
     "output_type": "execute_result"
    }
   ],
   "source": [
    "var1 = np.cumsum(np.round(var,decimals = 4)*100)\n",
    "var1"
   ]
  },
  {
   "cell_type": "code",
   "execution_count": 58,
   "metadata": {},
   "outputs": [
    {
     "data": {
      "text/plain": [
       "[<matplotlib.lines.Line2D at 0x2a238c54cc8>]"
      ]
     },
     "execution_count": 58,
     "metadata": {},
     "output_type": "execute_result"
    },
    {
     "data": {
      "image/png": "[encoded data removed]",
      "text/plain": [
       "<Figure size 432x288 with 1 Axes>"
      ]
     },
     "metadata": {
      "needs_background": "light"
     },
     "output_type": "display_data"
    }
   ],
   "source": [
    "plt.plot(var1,color=\"red\")"
   ]
  },
  {
   "cell_type": "code",
   "execution_count": null,
   "metadata": {},
   "outputs": [],
   "source": []
  }
 ],
 "metadata": {
  "kernelspec": {
   "display_name": "Python 3",
   "language": "python",
   "name": "python3"
  },
  "language_info": {
   "codemirror_mode": {
    "name": "ipython",
    "version": 3
   },
   "file_extension": ".py",
   "mimetype": "text/x-python",
   "name": "python",
   "nbconvert_exporter": "python",
   "pygments_lexer": "ipython3",
   "version": "3.7.4"
  }
 },
 "nbformat": 4,
 "nbformat_minor": 2
}
